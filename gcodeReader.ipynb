{
 "cells": [
  {
   "cell_type": "code",
   "execution_count": 17,
   "id": "2bbe9235-1e27-43cf-b6fe-a3ae3a8d4059",
   "metadata": {},
   "outputs": [],
   "source": [
    "import numpy as np\n",
    "import pandas as pd\n",
    "from tkinter import *\n",
    "from tkinter.filedialog import askopenfilename\n",
    "import re"
   ]
  },
  {
   "cell_type": "code",
   "execution_count": 18,
   "id": "01f1d0f5-6fe4-4a51-beeb-c38fa7a2d58d",
   "metadata": {},
   "outputs": [],
   "source": [
    "file = 'testing.gcode'"
   ]
  },
  {
   "cell_type": "code",
   "execution_count": 19,
   "id": "09dd11f6-ebf3-4fe9-a04d-4fc6bb7342b8",
   "metadata": {},
   "outputs": [],
   "source": [
    "def extract_filament_used(filename):\n",
    "    with open(filename, 'r') as file:\n",
    "        for line in file:\n",
    "            if line.startswith(\"; total filament used [g] = \"):\n",
    "                return line.split(\"=\")[1].strip()"
   ]
  },
  {
   "cell_type": "code",
   "execution_count": 20,
   "id": "fa8de781-7aa5-478e-a0b4-d5230503e9af",
   "metadata": {},
   "outputs": [],
   "source": [
    "def extract_printing_time_seconds(filename):\n",
    "    with open(filename, 'r') as file:\n",
    "        for line in file:\n",
    "            if line.startswith(\"; estimated printing time (normal mode) = \"):\n",
    "                time_str = line.split(\"=\")[1].strip()\n",
    "                \n",
    "                # Extract hours, minutes, and seconds\n",
    "                match = re.match(r\"(\\d+)h (\\d+)m (\\d+)s\", time_str)\n",
    "                if match:\n",
    "                    hours, minutes, seconds = map(int, match.groups())\n",
    "                    return hours * 3600 + minutes * 60 + seconds\n",
    "                \n",
    "                match = re.match(r\"(\\d+)m (\\d+)s\", time_str)\n",
    "                if match:\n",
    "                    minutes, seconds = map(int, match.groups())\n",
    "                    return minutes * 60 + seconds\n",
    "                \n",
    "                match = re.match(r\"(\\d+)s\", time_str)\n",
    "                if match:\n",
    "                    return int(match.group(1))\n",
    "    return None"
   ]
  },
  {
   "cell_type": "code",
   "execution_count": 21,
   "id": "e474a272-34aa-4a7a-a71c-209f447825c1",
   "metadata": {},
   "outputs": [
    {
     "name": "stdout",
     "output_type": "stream",
     "text": [
      "24.36\n"
     ]
    }
   ],
   "source": [
    "filament_used = extract_filament_used(file)\n",
    "print(filament_used)"
   ]
  },
  {
   "cell_type": "code",
   "execution_count": 22,
   "id": "2939e65c-0c8a-4cec-b39c-66dbdf9a5c3d",
   "metadata": {},
   "outputs": [
    {
     "name": "stdout",
     "output_type": "stream",
     "text": [
      "4360 seconds\n"
     ]
    }
   ],
   "source": [
    "time_used = extract_printing_time_seconds(file)\n",
    "print(time_used,\"seconds\")"
   ]
  },
  {
   "cell_type": "code",
   "execution_count": null,
   "id": "8fe6a007-e035-49b9-ae14-900d13e85ffb",
   "metadata": {},
   "outputs": [],
   "source": []
  }
 ],
 "metadata": {
  "kernelspec": {
   "display_name": "Python 3 (ipykernel)",
   "language": "python",
   "name": "python3"
  },
  "language_info": {
   "codemirror_mode": {
    "name": "ipython",
    "version": 3
   },
   "file_extension": ".py",
   "mimetype": "text/x-python",
   "name": "python",
   "nbconvert_exporter": "python",
   "pygments_lexer": "ipython3",
   "version": "3.10.16"
  }
 },
 "nbformat": 4,
 "nbformat_minor": 5
}
