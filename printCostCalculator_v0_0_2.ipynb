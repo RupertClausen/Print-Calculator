{
  "nbformat": 4,
  "nbformat_minor": 0,
  "metadata": {
    "colab": {
      "provenance": []
    },
    "kernelspec": {
      "name": "python3",
      "display_name": "Python 3"
    },
    "language_info": {
      "name": "python"
    },
    "widgets": {
      "application/vnd.jupyter.widget-state+json": {
        "aad49df9993b44d195ecc15a57bf267a": {
          "model_module": "@jupyter-widgets/controls",
          "model_name": "VBoxModel",
          "model_module_version": "1.5.0",
          "state": {
            "_dom_classes": [],
            "_model_module": "@jupyter-widgets/controls",
            "_model_module_version": "1.5.0",
            "_model_name": "VBoxModel",
            "_view_count": null,
            "_view_module": "@jupyter-widgets/controls",
            "_view_module_version": "1.5.0",
            "_view_name": "VBoxView",
            "box_style": "",
            "children": [
              "IPY_MODEL_7a55c11e74f94621b73e963ebc181e94",
              "IPY_MODEL_22f6e5bad7fa4f4492a78b5d53c2fe4e"
            ],
            "layout": "IPY_MODEL_bfb34a55d499455f8a638924a12fbfcc"
          }
        },
        "7a55c11e74f94621b73e963ebc181e94": {
          "model_module": "@jupyter-widgets/controls",
          "model_name": "TextModel",
          "model_module_version": "1.5.0",
          "state": {
            "_dom_classes": [],
            "_model_module": "@jupyter-widgets/controls",
            "_model_module_version": "1.5.0",
            "_model_name": "TextModel",
            "_view_count": null,
            "_view_module": "@jupyter-widgets/controls",
            "_view_module_version": "1.5.0",
            "_view_name": "TextView",
            "continuous_update": true,
            "description": "Drive Link:",
            "description_tooltip": null,
            "disabled": false,
            "layout": "IPY_MODEL_9e3acf421222468791a1e4af07a221d6",
            "placeholder": "Paste your Google Drive share link here",
            "style": "IPY_MODEL_5cf32801eec54638a4e504c8a1bf7259",
            "value": "https://drive.google.com/file/d/1a9gaFnPHH1SVmhjdsBfgU5Wvx_TWzeAC/view?usp=drive_link"
          }
        },
        "22f6e5bad7fa4f4492a78b5d53c2fe4e": {
          "model_module": "@jupyter-widgets/controls",
          "model_name": "ButtonModel",
          "model_module_version": "1.5.0",
          "state": {
            "_dom_classes": [],
            "_model_module": "@jupyter-widgets/controls",
            "_model_module_version": "1.5.0",
            "_model_name": "ButtonModel",
            "_view_count": null,
            "_view_module": "@jupyter-widgets/controls",
            "_view_module_version": "1.5.0",
            "_view_name": "ButtonView",
            "button_style": "primary",
            "description": "Process gcode",
            "disabled": false,
            "icon": "",
            "layout": "IPY_MODEL_b1fba2796d1e4718a587f4952792a8c7",
            "style": "IPY_MODEL_99e75ca01e31499b8490f8207c3ed09c",
            "tooltip": ""
          }
        },
        "bfb34a55d499455f8a638924a12fbfcc": {
          "model_module": "@jupyter-widgets/base",
          "model_name": "LayoutModel",
          "model_module_version": "1.2.0",
          "state": {
            "_model_module": "@jupyter-widgets/base",
            "_model_module_version": "1.2.0",
            "_model_name": "LayoutModel",
            "_view_count": null,
            "_view_module": "@jupyter-widgets/base",
            "_view_module_version": "1.2.0",
            "_view_name": "LayoutView",
            "align_content": null,
            "align_items": null,
            "align_self": null,
            "border": null,
            "bottom": null,
            "display": null,
            "flex": null,
            "flex_flow": null,
            "grid_area": null,
            "grid_auto_columns": null,
            "grid_auto_flow": null,
            "grid_auto_rows": null,
            "grid_column": null,
            "grid_gap": null,
            "grid_row": null,
            "grid_template_areas": null,
            "grid_template_columns": null,
            "grid_template_rows": null,
            "height": null,
            "justify_content": null,
            "justify_items": null,
            "left": null,
            "margin": null,
            "max_height": null,
            "max_width": null,
            "min_height": null,
            "min_width": null,
            "object_fit": null,
            "object_position": null,
            "order": null,
            "overflow": null,
            "overflow_x": null,
            "overflow_y": null,
            "padding": null,
            "right": null,
            "top": null,
            "visibility": null,
            "width": null
          }
        },
        "9e3acf421222468791a1e4af07a221d6": {
          "model_module": "@jupyter-widgets/base",
          "model_name": "LayoutModel",
          "model_module_version": "1.2.0",
          "state": {
            "_model_module": "@jupyter-widgets/base",
            "_model_module_version": "1.2.0",
            "_model_name": "LayoutModel",
            "_view_count": null,
            "_view_module": "@jupyter-widgets/base",
            "_view_module_version": "1.2.0",
            "_view_name": "LayoutView",
            "align_content": null,
            "align_items": null,
            "align_self": null,
            "border": null,
            "bottom": null,
            "display": null,
            "flex": null,
            "flex_flow": null,
            "grid_area": null,
            "grid_auto_columns": null,
            "grid_auto_flow": null,
            "grid_auto_rows": null,
            "grid_column": null,
            "grid_gap": null,
            "grid_row": null,
            "grid_template_areas": null,
            "grid_template_columns": null,
            "grid_template_rows": null,
            "height": null,
            "justify_content": null,
            "justify_items": null,
            "left": null,
            "margin": null,
            "max_height": null,
            "max_width": null,
            "min_height": null,
            "min_width": null,
            "object_fit": null,
            "object_position": null,
            "order": null,
            "overflow": null,
            "overflow_x": null,
            "overflow_y": null,
            "padding": null,
            "right": null,
            "top": null,
            "visibility": null,
            "width": "50%"
          }
        },
        "5cf32801eec54638a4e504c8a1bf7259": {
          "model_module": "@jupyter-widgets/controls",
          "model_name": "DescriptionStyleModel",
          "model_module_version": "1.5.0",
          "state": {
            "_model_module": "@jupyter-widgets/controls",
            "_model_module_version": "1.5.0",
            "_model_name": "DescriptionStyleModel",
            "_view_count": null,
            "_view_module": "@jupyter-widgets/base",
            "_view_module_version": "1.2.0",
            "_view_name": "StyleView",
            "description_width": "initial"
          }
        },
        "b1fba2796d1e4718a587f4952792a8c7": {
          "model_module": "@jupyter-widgets/base",
          "model_name": "LayoutModel",
          "model_module_version": "1.2.0",
          "state": {
            "_model_module": "@jupyter-widgets/base",
            "_model_module_version": "1.2.0",
            "_model_name": "LayoutModel",
            "_view_count": null,
            "_view_module": "@jupyter-widgets/base",
            "_view_module_version": "1.2.0",
            "_view_name": "LayoutView",
            "align_content": null,
            "align_items": null,
            "align_self": null,
            "border": null,
            "bottom": null,
            "display": null,
            "flex": null,
            "flex_flow": null,
            "grid_area": null,
            "grid_auto_columns": null,
            "grid_auto_flow": null,
            "grid_auto_rows": null,
            "grid_column": null,
            "grid_gap": null,
            "grid_row": null,
            "grid_template_areas": null,
            "grid_template_columns": null,
            "grid_template_rows": null,
            "height": null,
            "justify_content": null,
            "justify_items": null,
            "left": null,
            "margin": null,
            "max_height": null,
            "max_width": null,
            "min_height": null,
            "min_width": null,
            "object_fit": null,
            "object_position": null,
            "order": null,
            "overflow": null,
            "overflow_x": null,
            "overflow_y": null,
            "padding": null,
            "right": null,
            "top": null,
            "visibility": null,
            "width": null
          }
        },
        "99e75ca01e31499b8490f8207c3ed09c": {
          "model_module": "@jupyter-widgets/controls",
          "model_name": "ButtonStyleModel",
          "model_module_version": "1.5.0",
          "state": {
            "_model_module": "@jupyter-widgets/controls",
            "_model_module_version": "1.5.0",
            "_model_name": "ButtonStyleModel",
            "_view_count": null,
            "_view_module": "@jupyter-widgets/base",
            "_view_module_version": "1.2.0",
            "_view_name": "StyleView",
            "button_color": null,
            "font_weight": ""
          }
        }
      }
    }
  },
  "cells": [
    {
      "cell_type": "markdown",
      "source": [
        "# 0. Import important library"
      ],
      "metadata": {
        "id": "OSVE6CI6Uvhr"
      }
    },
    {
      "cell_type": "code",
      "execution_count": 19,
      "metadata": {
        "id": "aec_QpBbS2wi"
      },
      "outputs": [],
      "source": [
        "import numpy as np\n",
        "import pandas as pd\n",
        "from tkinter import *\n",
        "from tkinter.filedialog import askopenfilename\n",
        "import re\n",
        "from decimal import Decimal"
      ]
    },
    {
      "cell_type": "markdown",
      "source": [
        "# 1. Import G-code from the user (from google drive link)"
      ],
      "metadata": {
        "id": "DiDMPuR_UOO-"
      }
    },
    {
      "cell_type": "code",
      "source": [
        "import gdown\n",
        "import os\n",
        "from IPython.display import display\n",
        "from ipywidgets import Text, Button, VBox"
      ],
      "metadata": {
        "id": "R_zDnw1pUV2K"
      },
      "execution_count": 2,
      "outputs": []
    },
    {
      "cell_type": "code",
      "source": [
        "def process_dataset():\n",
        "    link_input = Text(\n",
        "        value='',\n",
        "        placeholder='Paste your Google Drive share link here',\n",
        "        description='Drive Link:',\n",
        "        style={'description_width': 'initial'},\n",
        "        layout={'width': '50%'}\n",
        "    )\n",
        "\n",
        "    def on_click(b):\n",
        "        try:\n",
        "            print(\"Downloading dataset...\")\n",
        "            url = link_input.value\n",
        "\n",
        "            # Convert share URL to direct download URL if needed\n",
        "            if 'drive.google.com/file/d/' in url:\n",
        "                file_id = url.split('/file/d/')[1].split('/')[0]\n",
        "                url = f'https://drive.google.com/uc?id={file_id}'\n",
        "\n",
        "            output = '/content/data.gcode'\n",
        "            gdown.download(url, output, fuzzy=True)\n",
        "            print(\"Download complete!\")\n",
        "\n",
        "        except Exception as e:\n",
        "            print(f\"Error: {str(e)}\")\n",
        "\n",
        "    process_button = Button(description='Process gcode', button_style='primary')\n",
        "    process_button.on_click(on_click)\n",
        "    display(VBox([link_input, process_button]))\n",
        "\n",
        "# Install gdown if not already installed\n",
        "!pip install -q gdown --upgrade\n",
        "\n",
        "# Execute\n",
        "process_dataset()"
      ],
      "metadata": {
        "colab": {
          "base_uri": "https://localhost:8080/",
          "height": 185,
          "referenced_widgets": [
            "aad49df9993b44d195ecc15a57bf267a",
            "7a55c11e74f94621b73e963ebc181e94",
            "22f6e5bad7fa4f4492a78b5d53c2fe4e",
            "bfb34a55d499455f8a638924a12fbfcc",
            "9e3acf421222468791a1e4af07a221d6",
            "5cf32801eec54638a4e504c8a1bf7259",
            "b1fba2796d1e4718a587f4952792a8c7",
            "99e75ca01e31499b8490f8207c3ed09c"
          ]
        },
        "id": "MehWG8kDUXpo",
        "outputId": "be422dbc-fd99-489e-f045-cdcf89b4ee3f"
      },
      "execution_count": 3,
      "outputs": [
        {
          "output_type": "display_data",
          "data": {
            "text/plain": [
              "VBox(children=(Text(value='', description='Drive Link:', layout=Layout(width='50%'), placeholder='Paste your G…"
            ],
            "application/vnd.jupyter.widget-view+json": {
              "version_major": 2,
              "version_minor": 0,
              "model_id": "aad49df9993b44d195ecc15a57bf267a"
            }
          },
          "metadata": {}
        },
        {
          "output_type": "stream",
          "name": "stdout",
          "text": [
            "Downloading dataset...\n"
          ]
        },
        {
          "output_type": "stream",
          "name": "stderr",
          "text": [
            "Downloading...\n",
            "From: https://drive.google.com/uc?id=1a9gaFnPHH1SVmhjdsBfgU5Wvx_TWzeAC\n",
            "To: /content/data.gcode\n",
            "100%|██████████| 366/366 [00:00<00:00, 762kB/s]"
          ]
        },
        {
          "output_type": "stream",
          "name": "stdout",
          "text": [
            "Download complete!\n"
          ]
        },
        {
          "output_type": "stream",
          "name": "stderr",
          "text": [
            "\n"
          ]
        }
      ]
    },
    {
      "cell_type": "code",
      "source": [
        "file = '/content/data.gcode'\n",
        "print(file)"
      ],
      "metadata": {
        "colab": {
          "base_uri": "https://localhost:8080/"
        },
        "id": "zPxTphn0Uo4O",
        "outputId": "6400387e-e1e1-45e6-8306-6c2cc80cd658"
      },
      "execution_count": 5,
      "outputs": [
        {
          "output_type": "stream",
          "name": "stdout",
          "text": [
            "/content/data.gcode\n"
          ]
        }
      ]
    },
    {
      "cell_type": "markdown",
      "source": [
        "# 2. Extract information from the G-code\n",
        "\n"
      ],
      "metadata": {
        "id": "QG4vkfb3TL8p"
      }
    },
    {
      "cell_type": "code",
      "source": [
        "def extract_filament_used(filename):\n",
        "    with open(filename, 'r') as file:\n",
        "        for line in file:\n",
        "            if line.startswith(\"; total filament used [g] = \"):\n",
        "                return float(line.split(\"=\")[1].strip())\n",
        "\n",
        "def extract_printing_time_seconds(filename):\n",
        "    with open(filename, 'r') as file:\n",
        "        for line in file:\n",
        "            if line.startswith(\"; estimated printing time (normal mode) = \"):\n",
        "                time_str = line.split(\"=\")[1].strip()\n",
        "\n",
        "                # Extract hours, minutes, and seconds\n",
        "                match = re.match(r\"(\\d+)h (\\d+)m (\\d+)s\", time_str)\n",
        "                if match:\n",
        "                    hours, minutes, seconds = map(int, match.groups())\n",
        "                    return hours * 3600 + minutes * 60 + seconds\n",
        "\n",
        "                match = re.match(r\"(\\d+)m (\\d+)s\", time_str)\n",
        "                if match:\n",
        "                    minutes, seconds = map(int, match.groups())\n",
        "                    return minutes * 60 + seconds\n",
        "\n",
        "                match = re.match(r\"(\\d+)s\", time_str)\n",
        "                if match:\n",
        "                    return int(match.group(1))\n",
        "    return None"
      ],
      "metadata": {
        "id": "Le0WhvGGTI6N"
      },
      "execution_count": 6,
      "outputs": []
    },
    {
      "cell_type": "code",
      "source": [
        "Filament_used = extract_filament_used(file)\n",
        "Time_used = extract_printing_time_seconds(file)\n",
        "\n",
        "print(\"Filament Used:\",Filament_used,\"g\")\n",
        "print(\"Time Used:\",Time_used,\"Seconds\")"
      ],
      "metadata": {
        "colab": {
          "base_uri": "https://localhost:8080/"
        },
        "id": "c-B3uDypT8Ba",
        "outputId": "37de2ff1-bf1d-4259-b00d-88592e523f50"
      },
      "execution_count": 7,
      "outputs": [
        {
          "output_type": "stream",
          "name": "stdout",
          "text": [
            "Filament Used: 24.36 g\n",
            "Time Used: 4360 Seconds\n"
          ]
        }
      ]
    },
    {
      "cell_type": "code",
      "source": [
        "\"\"\"Config Variable\"\"\"\n",
        "Price_per_Kg = 469\n",
        "Time_cost = 12\n",
        "Time_cost_expo = 0.2\n",
        "\n",
        "\"\"\"Utility cost\"\"\"\n",
        "Price_per_unit = 7\n",
        "Power_usage = 600\n",
        "\n",
        "\"\"\"Maintenance cost 1 to 0\"\"\"\n",
        "Maintenance = 0.6"
      ],
      "metadata": {
        "id": "c8lK4kY1VWki"
      },
      "execution_count": 13,
      "outputs": []
    },
    {
      "cell_type": "code",
      "source": [
        "Plastic_cost = round(Filament_used * (Price_per_Kg * 0.001),2)\n",
        "Time_cost_ovl = round(pow((Time_used / 60),Time_cost_expo) * Time_cost,2)\n",
        "Electricity_Cost = round((Time_used / 3600) * (Power_usage / 1000) * Price_per_unit,2)\n",
        "Maintenance_Cost = round((Plastic_cost + Time_cost) * Maintenance,2)\n",
        "\n",
        "Total_Price = round(Plastic_cost + Time_cost + Electricity_Cost + Maintenance_Cost,2)\n",
        "\n",
        "print(\"Plastic cost:\",Plastic_cost)\n",
        "print(\"Time cost:\",Time_cost_ovl)\n",
        "print(\"Electricity cost:\",Electricity_Cost)\n",
        "print(\"Maintenance cost:\",Maintenance_Cost)\n",
        "\n",
        "print(\"Total = \",Total_Price, \"baht\")"
      ],
      "metadata": {
        "colab": {
          "base_uri": "https://localhost:8080/"
        },
        "id": "dXlWk4C1WYUy",
        "outputId": "b608bd51-7f40-4dbd-82cb-f43ef1edb34a"
      },
      "execution_count": 18,
      "outputs": [
        {
          "output_type": "stream",
          "name": "stdout",
          "text": [
            "Plastic cost: 11.42\n",
            "Time cost: 66.64\n",
            "Electricity cost: 5.09\n",
            "Maintenance cost: 23.82\n",
            "Total =  68.61 baht\n"
          ]
        }
      ]
    }
  ]
}